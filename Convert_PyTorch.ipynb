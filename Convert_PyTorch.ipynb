{
 "cells": [
  {
   "cell_type": "code",
   "execution_count": 1,
   "metadata": {},
   "outputs": [],
   "source": [
    "import os\n",
    "import math\n",
    "import random\n",
    "import warnings\n",
    "\n",
    "import numpy as np\n",
    "import pandas as pd\n",
    "import matplotlib.pyplot as plt\n",
    "from sklearn.preprocessing import MinMaxScaler, LabelEncoder\n",
    "from sklearn.metrics import mean_squared_error, mean_absolute_error\n",
    "\n",
    "import torch\n",
    "import torch.nn as nn\n",
    "import torch.nn.functional as F\n",
    "\n",
    "\n",
    "random.seed(12345)\n",
    "np.random.seed(42)\n",
    "\n",
    "warnings.simplefilter(\"ignore\", DeprecationWarning)"
   ]
  },
  {
   "cell_type": "code",
   "execution_count": 2,
   "metadata": {},
   "outputs": [],
   "source": [
    "series = pd.read_csv('pollution.csv', header=0, index_col=0)\n",
    "raw_values = series.values\n",
    "\n",
    "# integer encode wind direction\n",
    "encoder = LabelEncoder()\n",
    "raw_values[:,4] = encoder.fit_transform(raw_values[:,4])"
   ]
  },
  {
   "cell_type": "code",
   "execution_count": 3,
   "metadata": {},
   "outputs": [
    {
     "data": {
      "text/html": [
       "<div>\n",
       "<style scoped>\n",
       "    .dataframe tbody tr th:only-of-type {\n",
       "        vertical-align: middle;\n",
       "    }\n",
       "\n",
       "    .dataframe tbody tr th {\n",
       "        vertical-align: top;\n",
       "    }\n",
       "\n",
       "    .dataframe thead th {\n",
       "        text-align: right;\n",
       "    }\n",
       "</style>\n",
       "<table border=\"1\" class=\"dataframe\">\n",
       "  <thead>\n",
       "    <tr style=\"text-align: right;\">\n",
       "      <th></th>\n",
       "      <th>pollution</th>\n",
       "      <th>dew</th>\n",
       "      <th>temp</th>\n",
       "      <th>press</th>\n",
       "      <th>wnd_dir</th>\n",
       "      <th>wnd_spd</th>\n",
       "      <th>snow</th>\n",
       "      <th>rain</th>\n",
       "    </tr>\n",
       "    <tr>\n",
       "      <th>date</th>\n",
       "      <th></th>\n",
       "      <th></th>\n",
       "      <th></th>\n",
       "      <th></th>\n",
       "      <th></th>\n",
       "      <th></th>\n",
       "      <th></th>\n",
       "      <th></th>\n",
       "    </tr>\n",
       "  </thead>\n",
       "  <tbody>\n",
       "    <tr>\n",
       "      <th>2010-01-02 00:00:00</th>\n",
       "      <td>129</td>\n",
       "      <td>-16</td>\n",
       "      <td>-4.0</td>\n",
       "      <td>1020.0</td>\n",
       "      <td>SE</td>\n",
       "      <td>1.79</td>\n",
       "      <td>0</td>\n",
       "      <td>0</td>\n",
       "    </tr>\n",
       "    <tr>\n",
       "      <th>2010-01-02 01:00:00</th>\n",
       "      <td>148</td>\n",
       "      <td>-15</td>\n",
       "      <td>-4.0</td>\n",
       "      <td>1020.0</td>\n",
       "      <td>SE</td>\n",
       "      <td>2.68</td>\n",
       "      <td>0</td>\n",
       "      <td>0</td>\n",
       "    </tr>\n",
       "    <tr>\n",
       "      <th>2010-01-02 02:00:00</th>\n",
       "      <td>159</td>\n",
       "      <td>-11</td>\n",
       "      <td>-5.0</td>\n",
       "      <td>1021.0</td>\n",
       "      <td>SE</td>\n",
       "      <td>3.57</td>\n",
       "      <td>0</td>\n",
       "      <td>0</td>\n",
       "    </tr>\n",
       "    <tr>\n",
       "      <th>2010-01-02 03:00:00</th>\n",
       "      <td>181</td>\n",
       "      <td>-7</td>\n",
       "      <td>-5.0</td>\n",
       "      <td>1022.0</td>\n",
       "      <td>SE</td>\n",
       "      <td>5.36</td>\n",
       "      <td>1</td>\n",
       "      <td>0</td>\n",
       "    </tr>\n",
       "    <tr>\n",
       "      <th>2010-01-02 04:00:00</th>\n",
       "      <td>138</td>\n",
       "      <td>-7</td>\n",
       "      <td>-5.0</td>\n",
       "      <td>1022.0</td>\n",
       "      <td>SE</td>\n",
       "      <td>6.25</td>\n",
       "      <td>2</td>\n",
       "      <td>0</td>\n",
       "    </tr>\n",
       "    <tr>\n",
       "      <th>...</th>\n",
       "      <td>...</td>\n",
       "      <td>...</td>\n",
       "      <td>...</td>\n",
       "      <td>...</td>\n",
       "      <td>...</td>\n",
       "      <td>...</td>\n",
       "      <td>...</td>\n",
       "      <td>...</td>\n",
       "    </tr>\n",
       "    <tr>\n",
       "      <th>2014-12-31 19:00:00</th>\n",
       "      <td>8</td>\n",
       "      <td>-23</td>\n",
       "      <td>-2.0</td>\n",
       "      <td>1034.0</td>\n",
       "      <td>NW</td>\n",
       "      <td>231.97</td>\n",
       "      <td>0</td>\n",
       "      <td>0</td>\n",
       "    </tr>\n",
       "    <tr>\n",
       "      <th>2014-12-31 20:00:00</th>\n",
       "      <td>10</td>\n",
       "      <td>-22</td>\n",
       "      <td>-3.0</td>\n",
       "      <td>1034.0</td>\n",
       "      <td>NW</td>\n",
       "      <td>237.78</td>\n",
       "      <td>0</td>\n",
       "      <td>0</td>\n",
       "    </tr>\n",
       "    <tr>\n",
       "      <th>2014-12-31 21:00:00</th>\n",
       "      <td>10</td>\n",
       "      <td>-22</td>\n",
       "      <td>-3.0</td>\n",
       "      <td>1034.0</td>\n",
       "      <td>NW</td>\n",
       "      <td>242.70</td>\n",
       "      <td>0</td>\n",
       "      <td>0</td>\n",
       "    </tr>\n",
       "    <tr>\n",
       "      <th>2014-12-31 22:00:00</th>\n",
       "      <td>8</td>\n",
       "      <td>-22</td>\n",
       "      <td>-4.0</td>\n",
       "      <td>1034.0</td>\n",
       "      <td>NW</td>\n",
       "      <td>246.72</td>\n",
       "      <td>0</td>\n",
       "      <td>0</td>\n",
       "    </tr>\n",
       "    <tr>\n",
       "      <th>2014-12-31 23:00:00</th>\n",
       "      <td>12</td>\n",
       "      <td>-21</td>\n",
       "      <td>-3.0</td>\n",
       "      <td>1034.0</td>\n",
       "      <td>NW</td>\n",
       "      <td>249.85</td>\n",
       "      <td>0</td>\n",
       "      <td>0</td>\n",
       "    </tr>\n",
       "  </tbody>\n",
       "</table>\n",
       "<p>43800 rows × 8 columns</p>\n",
       "</div>"
      ],
      "text/plain": [
       "                     pollution  dew  temp   press wnd_dir  wnd_spd  snow  rain\n",
       "date                                                                          \n",
       "2010-01-02 00:00:00        129  -16  -4.0  1020.0      SE     1.79     0     0\n",
       "2010-01-02 01:00:00        148  -15  -4.0  1020.0      SE     2.68     0     0\n",
       "2010-01-02 02:00:00        159  -11  -5.0  1021.0      SE     3.57     0     0\n",
       "2010-01-02 03:00:00        181   -7  -5.0  1022.0      SE     5.36     1     0\n",
       "2010-01-02 04:00:00        138   -7  -5.0  1022.0      SE     6.25     2     0\n",
       "...                        ...  ...   ...     ...     ...      ...   ...   ...\n",
       "2014-12-31 19:00:00          8  -23  -2.0  1034.0      NW   231.97     0     0\n",
       "2014-12-31 20:00:00         10  -22  -3.0  1034.0      NW   237.78     0     0\n",
       "2014-12-31 21:00:00         10  -22  -3.0  1034.0      NW   242.70     0     0\n",
       "2014-12-31 22:00:00          8  -22  -4.0  1034.0      NW   246.72     0     0\n",
       "2014-12-31 23:00:00         12  -21  -3.0  1034.0      NW   249.85     0     0\n",
       "\n",
       "[43800 rows x 8 columns]"
      ]
     },
     "execution_count": 3,
     "metadata": {},
     "output_type": "execute_result"
    }
   ],
   "source": [
    "series"
   ]
  },
  {
   "cell_type": "code",
   "execution_count": 4,
   "metadata": {},
   "outputs": [
    {
     "data": {
      "text/plain": [
       "(43800, 8)"
      ]
     },
     "execution_count": 4,
     "metadata": {},
     "output_type": "execute_result"
    }
   ],
   "source": [
    "raw_values.shape"
   ]
  },
  {
   "cell_type": "code",
   "execution_count": 5,
   "metadata": {},
   "outputs": [],
   "source": [
    "# create a differenced series\n",
    "def difference(dataset, interval=1):\n",
    "    diff = list()\n",
    "    for i in range(interval, len(dataset)):\n",
    "        value = dataset[i] - dataset[i-interval]\n",
    "        diff.append(value)\n",
    "    return pd.Series(diff)\n",
    "\n",
    "\n",
    "# transform data to be stationary\n",
    "diff2 = difference(raw_values, 1)\n",
    "diff2.shape\n",
    "\n",
    "diff = pd.DataFrame(raw_values).diff(1).dropna().values"
   ]
  },
  {
   "cell_type": "code",
   "execution_count": 6,
   "metadata": {},
   "outputs": [],
   "source": [
    "hidden_layers = [35,49,4]\n",
    "batch_size = 219\n",
    "dropout = 0.2\n",
    "seq_len = 25\n",
    "epochs_pre  = [625,115,933]\n",
    "epochs_finetune = 197\n",
    "window_size = 0\n",
    "features = 8"
   ]
  },
  {
   "cell_type": "code",
   "execution_count": 7,
   "metadata": {},
   "outputs": [],
   "source": [
    "def create_dataset(dataset, features, look_back=1):\n",
    "    dataset = np.insert(dataset, [0]*look_back, 0)\n",
    "    dataX, dataY = [], []\n",
    "    for i in range(len(dataset)-look_back):\n",
    "        a = dataset[i:(i+look_back)]\n",
    "        dataX.append(a)\n",
    "        dataY.append(dataset[i+look_back])\n",
    "    dataY = np.array(dataY)\n",
    "    dataY = np.reshape(dataY, (dataY.shape[0], features))\n",
    "    dataset = np.concatenate((dataX, dataY), axis=1)\n",
    "    return dataset\n",
    "    \n",
    "\n",
    "dataset2 = diff2.values\n",
    "dataset2 = create_dataset(dataset2, features, window_size)"
   ]
  },
  {
   "cell_type": "code",
   "execution_count": 8,
   "metadata": {},
   "outputs": [],
   "source": [
    "dataset = diff"
   ]
  },
  {
   "cell_type": "code",
   "execution_count": 9,
   "metadata": {},
   "outputs": [
    {
     "data": {
      "text/plain": [
       "array([[19, 1, 0.0, ..., 0.8900000000000001, 0, 0],\n",
       "       [11, 4, -1.0, ..., 0.8899999999999997, 0, 0],\n",
       "       [22, 4, 0.0, ..., 1.7900000000000005, 1, 0],\n",
       "       ...,\n",
       "       [0, 0, 0.0, ..., 4.9199999999999875, 0, 0],\n",
       "       [-2, 0, -1.0, ..., 4.02000000000001, 0, 0],\n",
       "       [4, 1, 1.0, ..., 3.1299999999999955, 0, 0]], dtype=object)"
      ]
     },
     "execution_count": 9,
     "metadata": {},
     "output_type": "execute_result"
    }
   ],
   "source": [
    "dataset"
   ]
  },
  {
   "cell_type": "code",
   "execution_count": 10,
   "metadata": {},
   "outputs": [
    {
     "data": {
      "text/plain": [
       "(43799, 8)"
      ]
     },
     "execution_count": 10,
     "metadata": {},
     "output_type": "execute_result"
    }
   ],
   "source": [
    "dataset.shape"
   ]
  },
  {
   "cell_type": "code",
   "execution_count": 11,
   "metadata": {},
   "outputs": [
    {
     "data": {
      "text/plain": [
       "array([[0.0, 0.0, 0.0, ..., 0.0, 0.0, 0.0],\n",
       "       [0.0, 0.0, 0.0, ..., 0.0, 0.0, 0.0],\n",
       "       [0.0, 0.0, 0.0, ..., 0.0, 0.0, 0.0],\n",
       "       ...,\n",
       "       [0, 0, 0.0, ..., 4.9199999999999875, 0, 0],\n",
       "       [-2, 0, -1.0, ..., 4.02000000000001, 0, 0],\n",
       "       [4, 1, 1.0, ..., 3.1299999999999955, 0, 0]], dtype=object)"
      ]
     },
     "execution_count": 11,
     "metadata": {},
     "output_type": "execute_result"
    }
   ],
   "source": [
    "data = np.vstack((np.zeros((seq_len, features)), dataset))\n",
    "data"
   ]
  },
  {
   "cell_type": "code",
   "execution_count": 12,
   "metadata": {},
   "outputs": [],
   "source": [
    "# Dropnan = True!\n",
    "history = np.hstack([data[seq_len-i:-i] for i in range(seq_len, 0, -1)])"
   ]
  },
  {
   "cell_type": "code",
   "execution_count": 13,
   "metadata": {},
   "outputs": [],
   "source": [
    "n_out = 1\n",
    "future = np.hstack([data[seq_len+i:] for i in range(n_out)])"
   ]
  },
  {
   "cell_type": "code",
   "execution_count": 18,
   "metadata": {},
   "outputs": [
    {
     "data": {
      "text/plain": [
       "array([[19, 1, 0.0, ..., 0.8900000000000001, 0, 0],\n",
       "       [11, 4, -1.0, ..., 0.8899999999999997, 0, 0],\n",
       "       [22, 4, 0.0, ..., 1.7900000000000005, 1, 0],\n",
       "       ...,\n",
       "       [0, 0, 0.0, ..., 4.9199999999999875, 0, 0],\n",
       "       [-2, 0, -1.0, ..., 4.02000000000001, 0, 0],\n",
       "       [4, 1, 1.0, ..., 3.1299999999999955, 0, 0]], dtype=object)"
      ]
     },
     "execution_count": 18,
     "metadata": {},
     "output_type": "execute_result"
    }
   ],
   "source": [
    "future"
   ]
  },
  {
   "cell_type": "code",
   "execution_count": 19,
   "metadata": {},
   "outputs": [],
   "source": [
    "agg = np.hstack([history, future[:, 0].reshape(-1, 1)])"
   ]
  },
  {
   "cell_type": "code",
   "execution_count": 20,
   "metadata": {},
   "outputs": [
    {
     "data": {
      "text/plain": [
       "(43799, 201)"
      ]
     },
     "execution_count": 20,
     "metadata": {},
     "output_type": "execute_result"
    }
   ],
   "source": [
    "agg.shape"
   ]
  },
  {
   "cell_type": "code",
   "execution_count": 21,
   "metadata": {},
   "outputs": [
    {
     "data": {
      "text/plain": [
       "array([[0.0, 0.0, 0.0, ..., 0.0, 0.0, 19],\n",
       "       [0.0, 0.0, 0.0, ..., 0, 0, 11],\n",
       "       [0.0, 0.0, 0.0, ..., 0, 0, 22],\n",
       "       ...,\n",
       "       [-9, -3, -1.0, ..., 0, 0, 0],\n",
       "       [-6, -1, -1.0, ..., 0, 0, -2],\n",
       "       [-12, -9, -2.0, ..., 0, 0, 4]], dtype=object)"
      ]
     },
     "execution_count": 21,
     "metadata": {},
     "output_type": "execute_result"
    }
   ],
   "source": [
    "agg"
   ]
  },
  {
   "cell_type": "code",
   "execution_count": 22,
   "metadata": {},
   "outputs": [],
   "source": [
    "#convert series to supervised learning\n",
    "def series_to_supervised(data, features, n_in=1, n_out=1, dropnan=True):\n",
    "    n_vars = 1 if type(data) is list else data.shape[1]\n",
    "    x = np.zeros(features, dtype=np.int)\n",
    "    for i in range(n_in):\n",
    "        data = np.insert(data, x, 0)\n",
    "    data = data.reshape(int(data.shape[0]/features), features)\n",
    "    df = pd.DataFrame(data)\n",
    "    cols, names = list(), list()\n",
    "    # input sequence (t-n, ..., t-1)\n",
    "    for i in range(n_in, 0, -1):\n",
    "        cols.append(df.shift(i))\n",
    "        names += [(f\"var{j+1}(t-{i})\") for j in range(n_vars)]\n",
    "    # forecast sequence (t, t+1, ..., t+n)\n",
    "    for i in range(n_out):\n",
    "        cols.append(df.shift(-i))\n",
    "        if i == 0:\n",
    "            names += [(f\"var{j+1}(t)\") for j in range(n_vars)]\n",
    "        else:\n",
    "            names += [(f\"var{j+1}(t+{i})\") for j in range(n_vars)]\n",
    "    # Put it all together\n",
    "    agg = pd.concat(cols, axis=1)\n",
    "    agg.columns = names\n",
    "    # drop rows with NaN values\n",
    "    if dropnan:\n",
    "        agg.dropna(inplace=True)\n",
    "    return agg"
   ]
  },
  {
   "cell_type": "code",
   "execution_count": 23,
   "metadata": {},
   "outputs": [],
   "source": [
    "# frame as supervised learning\n",
    "# reframed = series_to_supervised(dataset, features, seq_len, 1, dropnan=False)\n",
    "reframed = agg\n",
    "# drop = [i for  i in  range(seq_len*features+1,((seq_len+1)*features))]\n",
    "# reframed.drop(reframed.columns[drop], axis=1, inplace=True)\n",
    "# reframed = reframed.values"
   ]
  },
  {
   "cell_type": "code",
   "execution_count": 26,
   "metadata": {},
   "outputs": [],
   "source": [
    "# frame as supervised learning\n",
    "reframed2 = series_to_supervised(dataset, features, seq_len, 1, dropnan=True)\n",
    "drop = [i for  i in  range(seq_len*features+1,((seq_len+1)*features))]\n",
    "reframed2.drop(reframed2.columns[drop], axis=1, inplace=True)\n",
    "# reframed2 = reframed2.values"
   ]
  },
  {
   "cell_type": "code",
   "execution_count": 27,
   "metadata": {},
   "outputs": [
    {
     "data": {
      "text/html": [
       "<div>\n",
       "<style scoped>\n",
       "    .dataframe tbody tr th:only-of-type {\n",
       "        vertical-align: middle;\n",
       "    }\n",
       "\n",
       "    .dataframe tbody tr th {\n",
       "        vertical-align: top;\n",
       "    }\n",
       "\n",
       "    .dataframe thead th {\n",
       "        text-align: right;\n",
       "    }\n",
       "</style>\n",
       "<table border=\"1\" class=\"dataframe\">\n",
       "  <thead>\n",
       "    <tr style=\"text-align: right;\">\n",
       "      <th></th>\n",
       "      <th>var1(t-25)</th>\n",
       "      <th>var2(t-25)</th>\n",
       "      <th>var3(t-25)</th>\n",
       "      <th>var4(t-25)</th>\n",
       "      <th>var5(t-25)</th>\n",
       "      <th>var6(t-25)</th>\n",
       "      <th>var7(t-25)</th>\n",
       "      <th>var8(t-25)</th>\n",
       "      <th>var1(t-24)</th>\n",
       "      <th>var2(t-24)</th>\n",
       "      <th>...</th>\n",
       "      <th>var8(t-2)</th>\n",
       "      <th>var1(t-1)</th>\n",
       "      <th>var2(t-1)</th>\n",
       "      <th>var3(t-1)</th>\n",
       "      <th>var4(t-1)</th>\n",
       "      <th>var5(t-1)</th>\n",
       "      <th>var6(t-1)</th>\n",
       "      <th>var7(t-1)</th>\n",
       "      <th>var8(t-1)</th>\n",
       "      <th>var1(t)</th>\n",
       "    </tr>\n",
       "  </thead>\n",
       "  <tbody>\n",
       "    <tr>\n",
       "      <th>25</th>\n",
       "      <td>0</td>\n",
       "      <td>0</td>\n",
       "      <td>0</td>\n",
       "      <td>0</td>\n",
       "      <td>0</td>\n",
       "      <td>0</td>\n",
       "      <td>0</td>\n",
       "      <td>0</td>\n",
       "      <td>0</td>\n",
       "      <td>0</td>\n",
       "      <td>...</td>\n",
       "      <td>0</td>\n",
       "      <td>0</td>\n",
       "      <td>0</td>\n",
       "      <td>0</td>\n",
       "      <td>0</td>\n",
       "      <td>0</td>\n",
       "      <td>0</td>\n",
       "      <td>0</td>\n",
       "      <td>0</td>\n",
       "      <td>19</td>\n",
       "    </tr>\n",
       "    <tr>\n",
       "      <th>26</th>\n",
       "      <td>0</td>\n",
       "      <td>0</td>\n",
       "      <td>0</td>\n",
       "      <td>0</td>\n",
       "      <td>0</td>\n",
       "      <td>0</td>\n",
       "      <td>0</td>\n",
       "      <td>0</td>\n",
       "      <td>0</td>\n",
       "      <td>0</td>\n",
       "      <td>...</td>\n",
       "      <td>0</td>\n",
       "      <td>19</td>\n",
       "      <td>1</td>\n",
       "      <td>0</td>\n",
       "      <td>0</td>\n",
       "      <td>0</td>\n",
       "      <td>0.89</td>\n",
       "      <td>0</td>\n",
       "      <td>0</td>\n",
       "      <td>11</td>\n",
       "    </tr>\n",
       "    <tr>\n",
       "      <th>27</th>\n",
       "      <td>0</td>\n",
       "      <td>0</td>\n",
       "      <td>0</td>\n",
       "      <td>0</td>\n",
       "      <td>0</td>\n",
       "      <td>0</td>\n",
       "      <td>0</td>\n",
       "      <td>0</td>\n",
       "      <td>0</td>\n",
       "      <td>0</td>\n",
       "      <td>...</td>\n",
       "      <td>0</td>\n",
       "      <td>11</td>\n",
       "      <td>4</td>\n",
       "      <td>-1</td>\n",
       "      <td>1</td>\n",
       "      <td>0</td>\n",
       "      <td>0.89</td>\n",
       "      <td>0</td>\n",
       "      <td>0</td>\n",
       "      <td>22</td>\n",
       "    </tr>\n",
       "    <tr>\n",
       "      <th>28</th>\n",
       "      <td>0</td>\n",
       "      <td>0</td>\n",
       "      <td>0</td>\n",
       "      <td>0</td>\n",
       "      <td>0</td>\n",
       "      <td>0</td>\n",
       "      <td>0</td>\n",
       "      <td>0</td>\n",
       "      <td>0</td>\n",
       "      <td>0</td>\n",
       "      <td>...</td>\n",
       "      <td>0</td>\n",
       "      <td>22</td>\n",
       "      <td>4</td>\n",
       "      <td>0</td>\n",
       "      <td>1</td>\n",
       "      <td>0</td>\n",
       "      <td>1.79</td>\n",
       "      <td>1</td>\n",
       "      <td>0</td>\n",
       "      <td>-43</td>\n",
       "    </tr>\n",
       "    <tr>\n",
       "      <th>29</th>\n",
       "      <td>0</td>\n",
       "      <td>0</td>\n",
       "      <td>0</td>\n",
       "      <td>0</td>\n",
       "      <td>0</td>\n",
       "      <td>0</td>\n",
       "      <td>0</td>\n",
       "      <td>0</td>\n",
       "      <td>0</td>\n",
       "      <td>0</td>\n",
       "      <td>...</td>\n",
       "      <td>0</td>\n",
       "      <td>-43</td>\n",
       "      <td>0</td>\n",
       "      <td>0</td>\n",
       "      <td>0</td>\n",
       "      <td>0</td>\n",
       "      <td>0.89</td>\n",
       "      <td>1</td>\n",
       "      <td>0</td>\n",
       "      <td>-29</td>\n",
       "    </tr>\n",
       "    <tr>\n",
       "      <th>...</th>\n",
       "      <td>...</td>\n",
       "      <td>...</td>\n",
       "      <td>...</td>\n",
       "      <td>...</td>\n",
       "      <td>...</td>\n",
       "      <td>...</td>\n",
       "      <td>...</td>\n",
       "      <td>...</td>\n",
       "      <td>...</td>\n",
       "      <td>...</td>\n",
       "      <td>...</td>\n",
       "      <td>...</td>\n",
       "      <td>...</td>\n",
       "      <td>...</td>\n",
       "      <td>...</td>\n",
       "      <td>...</td>\n",
       "      <td>...</td>\n",
       "      <td>...</td>\n",
       "      <td>...</td>\n",
       "      <td>...</td>\n",
       "      <td>...</td>\n",
       "    </tr>\n",
       "    <tr>\n",
       "      <th>43819</th>\n",
       "      <td>16</td>\n",
       "      <td>1</td>\n",
       "      <td>-3</td>\n",
       "      <td>1</td>\n",
       "      <td>0</td>\n",
       "      <td>1.79</td>\n",
       "      <td>0</td>\n",
       "      <td>0</td>\n",
       "      <td>-44</td>\n",
       "      <td>5</td>\n",
       "      <td>...</td>\n",
       "      <td>0</td>\n",
       "      <td>1</td>\n",
       "      <td>0</td>\n",
       "      <td>-1</td>\n",
       "      <td>0</td>\n",
       "      <td>0</td>\n",
       "      <td>4.92</td>\n",
       "      <td>0</td>\n",
       "      <td>0</td>\n",
       "      <td>-2</td>\n",
       "    </tr>\n",
       "    <tr>\n",
       "      <th>43820</th>\n",
       "      <td>-44</td>\n",
       "      <td>5</td>\n",
       "      <td>4</td>\n",
       "      <td>1</td>\n",
       "      <td>1</td>\n",
       "      <td>2.23</td>\n",
       "      <td>0</td>\n",
       "      <td>0</td>\n",
       "      <td>-9</td>\n",
       "      <td>-3</td>\n",
       "      <td>...</td>\n",
       "      <td>0</td>\n",
       "      <td>-2</td>\n",
       "      <td>-1</td>\n",
       "      <td>0</td>\n",
       "      <td>1</td>\n",
       "      <td>0</td>\n",
       "      <td>5.81</td>\n",
       "      <td>0</td>\n",
       "      <td>0</td>\n",
       "      <td>2</td>\n",
       "    </tr>\n",
       "    <tr>\n",
       "      <th>43821</th>\n",
       "      <td>-9</td>\n",
       "      <td>-3</td>\n",
       "      <td>-1</td>\n",
       "      <td>1</td>\n",
       "      <td>0</td>\n",
       "      <td>7.15</td>\n",
       "      <td>0</td>\n",
       "      <td>0</td>\n",
       "      <td>-6</td>\n",
       "      <td>-1</td>\n",
       "      <td>...</td>\n",
       "      <td>0</td>\n",
       "      <td>2</td>\n",
       "      <td>1</td>\n",
       "      <td>-1</td>\n",
       "      <td>0</td>\n",
       "      <td>0</td>\n",
       "      <td>5.81</td>\n",
       "      <td>0</td>\n",
       "      <td>0</td>\n",
       "      <td>0</td>\n",
       "    </tr>\n",
       "    <tr>\n",
       "      <th>43822</th>\n",
       "      <td>-6</td>\n",
       "      <td>-1</td>\n",
       "      <td>-1</td>\n",
       "      <td>1</td>\n",
       "      <td>0</td>\n",
       "      <td>8.94</td>\n",
       "      <td>0</td>\n",
       "      <td>0</td>\n",
       "      <td>-12</td>\n",
       "      <td>-9</td>\n",
       "      <td>...</td>\n",
       "      <td>0</td>\n",
       "      <td>0</td>\n",
       "      <td>0</td>\n",
       "      <td>0</td>\n",
       "      <td>0</td>\n",
       "      <td>0</td>\n",
       "      <td>4.92</td>\n",
       "      <td>0</td>\n",
       "      <td>0</td>\n",
       "      <td>-2</td>\n",
       "    </tr>\n",
       "    <tr>\n",
       "      <th>43823</th>\n",
       "      <td>-12</td>\n",
       "      <td>-9</td>\n",
       "      <td>-2</td>\n",
       "      <td>2</td>\n",
       "      <td>0</td>\n",
       "      <td>9.83</td>\n",
       "      <td>0</td>\n",
       "      <td>0</td>\n",
       "      <td>8</td>\n",
       "      <td>-1</td>\n",
       "      <td>...</td>\n",
       "      <td>0</td>\n",
       "      <td>-2</td>\n",
       "      <td>0</td>\n",
       "      <td>-1</td>\n",
       "      <td>0</td>\n",
       "      <td>0</td>\n",
       "      <td>4.02</td>\n",
       "      <td>0</td>\n",
       "      <td>0</td>\n",
       "      <td>4</td>\n",
       "    </tr>\n",
       "  </tbody>\n",
       "</table>\n",
       "<p>43799 rows × 201 columns</p>\n",
       "</div>"
      ],
      "text/plain": [
       "      var1(t-25) var2(t-25) var3(t-25) var4(t-25) var5(t-25) var6(t-25)  \\\n",
       "25             0          0          0          0          0          0   \n",
       "26             0          0          0          0          0          0   \n",
       "27             0          0          0          0          0          0   \n",
       "28             0          0          0          0          0          0   \n",
       "29             0          0          0          0          0          0   \n",
       "...          ...        ...        ...        ...        ...        ...   \n",
       "43819         16          1         -3          1          0       1.79   \n",
       "43820        -44          5          4          1          1       2.23   \n",
       "43821         -9         -3         -1          1          0       7.15   \n",
       "43822         -6         -1         -1          1          0       8.94   \n",
       "43823        -12         -9         -2          2          0       9.83   \n",
       "\n",
       "      var7(t-25) var8(t-25) var1(t-24) var2(t-24)  ... var8(t-2) var1(t-1)  \\\n",
       "25             0          0          0          0  ...         0         0   \n",
       "26             0          0          0          0  ...         0        19   \n",
       "27             0          0          0          0  ...         0        11   \n",
       "28             0          0          0          0  ...         0        22   \n",
       "29             0          0          0          0  ...         0       -43   \n",
       "...          ...        ...        ...        ...  ...       ...       ...   \n",
       "43819          0          0        -44          5  ...         0         1   \n",
       "43820          0          0         -9         -3  ...         0        -2   \n",
       "43821          0          0         -6         -1  ...         0         2   \n",
       "43822          0          0        -12         -9  ...         0         0   \n",
       "43823          0          0          8         -1  ...         0        -2   \n",
       "\n",
       "      var2(t-1) var3(t-1) var4(t-1) var5(t-1) var6(t-1) var7(t-1) var8(t-1)  \\\n",
       "25            0         0         0         0         0         0         0   \n",
       "26            1         0         0         0      0.89         0         0   \n",
       "27            4        -1         1         0      0.89         0         0   \n",
       "28            4         0         1         0      1.79         1         0   \n",
       "29            0         0         0         0      0.89         1         0   \n",
       "...         ...       ...       ...       ...       ...       ...       ...   \n",
       "43819         0        -1         0         0      4.92         0         0   \n",
       "43820        -1         0         1         0      5.81         0         0   \n",
       "43821         1        -1         0         0      5.81         0         0   \n",
       "43822         0         0         0         0      4.92         0         0   \n",
       "43823         0        -1         0         0      4.02         0         0   \n",
       "\n",
       "      var1(t)  \n",
       "25         19  \n",
       "26         11  \n",
       "27         22  \n",
       "28        -43  \n",
       "29        -29  \n",
       "...       ...  \n",
       "43819      -2  \n",
       "43820       2  \n",
       "43821       0  \n",
       "43822      -2  \n",
       "43823       4  \n",
       "\n",
       "[43799 rows x 201 columns]"
      ]
     },
     "execution_count": 27,
     "metadata": {},
     "output_type": "execute_result"
    }
   ],
   "source": [
    "reframed2"
   ]
  },
  {
   "cell_type": "code",
   "execution_count": 19,
   "metadata": {},
   "outputs": [],
   "source": [
    "# scale train and test data to [-1, 1]\n",
    "def scale(train, test):\n",
    "    # fit scaler\n",
    "    scaler = MinMaxScaler(feature_range=(-1, 1))\n",
    "    scaler = scaler.fit(train)\n",
    "    # transform train\n",
    "    train = train.reshape(train.shape[0], train.shape[1])\n",
    "    train_scaled = scaler.transform(train)\n",
    "    # transform test\n",
    "    test = test.reshape(test.shape[0], test.shape[1])\n",
    "    test_scaled = scaler.transform(test)\n",
    "    return scaler, train_scaled, test_scaled"
   ]
  },
  {
   "cell_type": "code",
   "execution_count": 20,
   "metadata": {},
   "outputs": [
    {
     "name": "stdout",
     "output_type": "stream",
     "text": [
      "(35040, 25, 8) (35040,) (8759, 25, 8) (8759,)\n"
     ]
    }
   ],
   "source": [
    "# split into train and test sets\n",
    "train_size = 365*24*4\n",
    "train, test = reframed[0:train_size], reframed[train_size:]\n",
    "\n",
    "# transform the scale of the data\n",
    "scaler, train_scaled, test_scaled = scale(train, test)\n",
    "\n",
    "# split into input and outputs\n",
    "x_train,y_train = train_scaled[:,0:-1],train_scaled[:,-1]\n",
    "x_test,y_test = test_scaled[:,0:-1],test_scaled[:,-1]\n",
    "\n",
    "# reshape input to be 3D [samples, timesteps, features]\n",
    "x_train = x_train.reshape(x_train.shape[0], seq_len, features)\n",
    "x_test = x_test.reshape(x_test.shape[0], seq_len, features)\n",
    "\n",
    "print(x_train.shape, y_train.shape, x_test.shape, y_test.shape)"
   ]
  },
  {
   "cell_type": "code",
   "execution_count": 22,
   "metadata": {},
   "outputs": [],
   "source": [
    "from torch.utils.data import  TensorDataset, DataLoader"
   ]
  },
  {
   "cell_type": "code",
   "execution_count": null,
   "metadata": {},
   "outputs": [],
   "source": [
    "x_train = torch.Tensor(x_train).cuda()\n",
    "y_train = torch.Tensor(y_train).cuda()\n",
    "x_test = \n",
    "\n",
    "ds = TensorDataset(X, y)"
   ]
  },
  {
   "cell_type": "code",
   "execution_count": 22,
   "metadata": {},
   "outputs": [
    {
     "name": "stdout",
     "output_type": "stream",
     "text": [
      "\n",
      "start pretraining\n",
      "===============\n"
     ]
    }
   ],
   "source": [
    "print('\\nstart pretraining')\n",
    "print('===============')\n",
    "\n",
    "timesteps = x_train.shape[1]\n",
    "input_dim = x_train.shape[2]\n",
    "trained_encoder = []\n",
    "x_train_temp = x_train"
   ]
  },
  {
   "cell_type": "code",
   "execution_count": 132,
   "metadata": {},
   "outputs": [
    {
     "data": {
      "text/plain": [
       "([35, 49, 4], [625, 115, 933])"
      ]
     },
     "execution_count": 132,
     "metadata": {},
     "output_type": "execute_result"
    }
   ],
   "source": [
    "hidden_layers, epochs_pre"
   ]
  },
  {
   "cell_type": "code",
   "execution_count": 28,
   "metadata": {},
   "outputs": [
    {
     "data": {
      "text/plain": [
       "(35040, 25, 8)"
      ]
     },
     "execution_count": 28,
     "metadata": {},
     "output_type": "execute_result"
    }
   ],
   "source": [
    "x_train_temp.shape"
   ]
  },
  {
   "cell_type": "code",
   "execution_count": 182,
   "metadata": {},
   "outputs": [],
   "source": [
    "class RepeatVector(nn.Module):\n",
    "    def forward(self, x, h):\n",
    "        return h.expand(h.shape[0], x.shape[1], h.shape[2])\n",
    "\n",
    "\n",
    "class LstmAutoEncoder(nn.Module):\n",
    "    def __init__(self, input_size, hidden_size):\n",
    "        super().__init__()\n",
    "        self.encoder = nn.LSTM(input_size, hidden_size, batch_first=True)\n",
    "        self.repeat = RepeatVector()\n",
    "        self.decoder = nn.LSTM(hidden_size, input_size, batch_first=True)\n",
    "        \n",
    "    def forward(self, x):\n",
    "        _, (h, _) = self.encoder(x)\n",
    "        encoded = self.repeat(x, h)\n",
    "        decoded, _ = self.decoder(encoded)\n",
    "        return decoded"
   ]
  },
  {
   "cell_type": "code",
   "execution_count": 184,
   "metadata": {},
   "outputs": [],
   "source": [
    "dims = [8] + hidden_layers\n",
    "num_stacks = 3\n",
    "\n",
    "autoencoders = [\n",
    "    LstmAutoEncoder(*dims[i:i+2])\n",
    "    for i in range(num_stacks)\n",
    "]\n",
    "encoders = nn.Sequential(*[ae.encoder for ae in autoencoders])"
   ]
  },
  {
   "cell_type": "code",
   "execution_count": 185,
   "metadata": {},
   "outputs": [
    {
     "data": {
      "text/plain": [
       "LstmAutoEncoder(\n",
       "  (encoder): LSTM(8, 35, batch_first=True)\n",
       "  (repeat): RepeatVector()\n",
       "  (decoder): LSTM(35, 8, batch_first=True)\n",
       ")"
      ]
     },
     "execution_count": 185,
     "metadata": {},
     "output_type": "execute_result"
    }
   ],
   "source": [
    "# Pre-Training\n",
    "optimizer = torch.optim.Adam(autoencoders[0].parameters())\n",
    "autoencoders[0]"
   ]
  },
  {
   "cell_type": "code",
   "execution_count": 186,
   "metadata": {},
   "outputs": [
    {
     "data": {
      "text/plain": [
       "LstmAutoEncoder(\n",
       "  (encoder): LSTM(8, 35, batch_first=True)\n",
       "  (repeat): RepeatVector()\n",
       "  (decoder): LSTM(35, 8, batch_first=True)\n",
       ")"
      ]
     },
     "execution_count": 186,
     "metadata": {},
     "output_type": "execute_result"
    }
   ],
   "source": [
    "autoencoders[0]"
   ]
  },
  {
   "cell_type": "code",
   "execution_count": 187,
   "metadata": {},
   "outputs": [],
   "source": [
    "for ae in autoencoders:\n",
    "    ae.cuda()"
   ]
  },
  {
   "cell_type": "code",
   "execution_count": 188,
   "metadata": {},
   "outputs": [
    {
     "data": {
      "text/plain": [
       "[Parameter containing:\n",
       " tensor([[-0.1473,  0.0254, -0.0820,  ..., -0.0353, -0.1494,  0.0030],\n",
       "         [ 0.0198, -0.0023, -0.0761,  ..., -0.0943, -0.0779, -0.1049],\n",
       "         [-0.0489,  0.1497,  0.1230,  ..., -0.0113, -0.0892,  0.1646],\n",
       "         ...,\n",
       "         [ 0.0802, -0.0762,  0.1378,  ...,  0.0467,  0.1330, -0.0091],\n",
       "         [ 0.0066, -0.0176, -0.0699,  ...,  0.0135,  0.0646,  0.0934],\n",
       "         [ 0.1136,  0.0310,  0.1379,  ..., -0.1322,  0.1012,  0.1176]],\n",
       "        device='cuda:0', requires_grad=True),\n",
       " Parameter containing:\n",
       " tensor([[ 0.0489,  0.0450, -0.1117,  ..., -0.0256,  0.0055, -0.0816],\n",
       "         [ 0.1598,  0.0276,  0.0714,  ...,  0.1052, -0.0063, -0.0394],\n",
       "         [ 0.1009,  0.0175,  0.1672,  ..., -0.0585,  0.0738,  0.1347],\n",
       "         ...,\n",
       "         [ 0.0102,  0.0446, -0.0294,  ..., -0.1652, -0.1456, -0.0364],\n",
       "         [-0.0754,  0.1286,  0.0658,  ..., -0.1608,  0.0705, -0.1141],\n",
       "         [ 0.1218,  0.0121, -0.0180,  ...,  0.1200,  0.0105,  0.1645]],\n",
       "        device='cuda:0', requires_grad=True),\n",
       " Parameter containing:\n",
       " tensor([ 0.1522,  0.0317, -0.0507,  0.0869, -0.0468, -0.1331, -0.1177,  0.0527,\n",
       "         -0.1004,  0.0513,  0.1326,  0.1448, -0.1454, -0.1560, -0.0942,  0.0649,\n",
       "         -0.0408, -0.0534, -0.1041,  0.0401, -0.0352, -0.0186, -0.0372,  0.0760,\n",
       "         -0.1433, -0.1268, -0.1426, -0.1633, -0.0918, -0.0632, -0.0739,  0.0538,\n",
       "         -0.1357, -0.1598,  0.1297,  0.0106,  0.1257, -0.0318, -0.0975,  0.0342,\n",
       "          0.0220,  0.0659, -0.1029,  0.0897,  0.0194, -0.1269,  0.0634,  0.0878,\n",
       "         -0.0603,  0.1078, -0.1688,  0.1048,  0.0025,  0.0717, -0.0452,  0.0234,\n",
       "          0.0358, -0.0282,  0.1637,  0.1177, -0.0299,  0.0363, -0.0856,  0.1536,\n",
       "         -0.0146, -0.0516, -0.0849,  0.1635,  0.1367, -0.1545,  0.0535,  0.1001,\n",
       "          0.1194, -0.0431,  0.1598, -0.1385,  0.1136, -0.1040, -0.1621, -0.1351,\n",
       "          0.1381,  0.1088,  0.1105, -0.0584, -0.0831, -0.0196, -0.1324,  0.0020,\n",
       "         -0.0291,  0.0178, -0.0179,  0.0596,  0.1466,  0.1282,  0.1235,  0.0245,\n",
       "         -0.0241, -0.0841,  0.1003,  0.1058,  0.0908, -0.0024,  0.0744,  0.1496,\n",
       "          0.0538, -0.0023, -0.0085, -0.0393,  0.0148,  0.1094,  0.1642,  0.1457,\n",
       "          0.0550,  0.1404, -0.1194, -0.0804, -0.1080,  0.0517, -0.1164,  0.0491,\n",
       "         -0.1610, -0.0930, -0.1574, -0.1458,  0.0459,  0.1449,  0.0668,  0.1349,\n",
       "         -0.1479, -0.1170, -0.0093,  0.0808, -0.0953, -0.0620,  0.0385, -0.1477,\n",
       "          0.1559, -0.1325, -0.1099, -0.1452], device='cuda:0',\n",
       "        requires_grad=True),\n",
       " Parameter containing:\n",
       " tensor([ 0.1504,  0.1407, -0.0253, -0.0853, -0.0538, -0.0662,  0.0641,  0.0594,\n",
       "          0.0133, -0.1167,  0.0701,  0.1373, -0.1013, -0.1050,  0.0132, -0.0120,\n",
       "         -0.0680,  0.1537,  0.0492, -0.1161,  0.0333,  0.0999,  0.0246,  0.1179,\n",
       "         -0.1537,  0.1666, -0.0417, -0.1091, -0.0761,  0.0266, -0.0289,  0.0848,\n",
       "          0.1355, -0.1187, -0.0843,  0.0584, -0.0345, -0.0312,  0.0734,  0.0709,\n",
       "         -0.0988, -0.1263, -0.0842,  0.0244,  0.0767, -0.0110,  0.0742,  0.1467,\n",
       "         -0.1096,  0.0456,  0.1349, -0.0909,  0.0286,  0.0155, -0.0032,  0.1306,\n",
       "         -0.1134,  0.0025,  0.0800,  0.1258,  0.1432,  0.0723, -0.0310,  0.0834,\n",
       "          0.0969, -0.1030,  0.0036, -0.1584,  0.0621, -0.1130,  0.1172, -0.0511,\n",
       "         -0.1224,  0.0717,  0.1005, -0.0462,  0.1553,  0.0036,  0.0856,  0.0409,\n",
       "         -0.0088, -0.1065, -0.1600,  0.1465, -0.0608,  0.0241, -0.1385,  0.0669,\n",
       "          0.0323,  0.0408, -0.0771,  0.0850, -0.0519,  0.1027,  0.0150, -0.1050,\n",
       "         -0.1219,  0.0566,  0.0888, -0.1593, -0.0906,  0.0961,  0.0459, -0.1318,\n",
       "         -0.0960,  0.1473, -0.0637, -0.0685,  0.1575,  0.1104, -0.0218,  0.1011,\n",
       "          0.1178, -0.0557,  0.1291,  0.0936,  0.0040, -0.0314, -0.1649, -0.1513,\n",
       "          0.1511,  0.0492, -0.1296, -0.1067, -0.1244,  0.1409, -0.0148, -0.0322,\n",
       "          0.1424, -0.0134,  0.0313,  0.0179,  0.0352, -0.0387, -0.1384, -0.0701,\n",
       "          0.0690, -0.1253,  0.1233,  0.0658], device='cuda:0',\n",
       "        requires_grad=True)]"
      ]
     },
     "execution_count": 188,
     "metadata": {},
     "output_type": "execute_result"
    }
   ],
   "source": []
  },
  {
   "cell_type": "code",
   "execution_count": null,
   "metadata": {},
   "outputs": [],
   "source": []
  }
 ],
 "metadata": {
  "kernelspec": {
   "display_name": "basic",
   "language": "python",
   "name": "basic"
  },
  "language_info": {
   "codemirror_mode": {
    "name": "ipython",
    "version": 3
   },
   "file_extension": ".py",
   "mimetype": "text/x-python",
   "name": "python",
   "nbconvert_exporter": "python",
   "pygments_lexer": "ipython3",
   "version": "3.6.9"
  }
 },
 "nbformat": 4,
 "nbformat_minor": 4
}
